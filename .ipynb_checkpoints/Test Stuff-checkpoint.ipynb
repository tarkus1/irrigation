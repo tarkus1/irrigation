{
 "cells": [
  {
   "cell_type": "code",
   "execution_count": 1,
   "metadata": {},
   "outputs": [],
   "source": [
    "import pandas as pd\n"
   ]
  },
  {
   "cell_type": "code",
   "execution_count": 23,
   "metadata": {},
   "outputs": [
    {
     "name": "stdout",
     "output_type": "stream",
     "text": [
      "26.241E9D010000\n"
     ]
    }
   ],
   "source": [
    "import os, sys, subprocess\n",
    "\n",
    "# read the owdir\n",
    "\n",
    "p = subprocess.Popen([\"owdir\"], stdout=subprocess.PIPE)\n",
    "(names,errcode) = p.communicate()\n",
    "temp=names.decode()\n",
    "address=temp.split(\"/\")\n",
    "# print(\"just decode \"+names.decode())\n",
    "# address=names.split(\"/\")\n",
    "\n",
    "add1=(str(address[1]).strip())\n",
    "print(add1)"
   ]
  },
  {
   "cell_type": "code",
   "execution_count": 25,
   "metadata": {},
   "outputs": [
    {
     "ename": "IndentationError",
     "evalue": "unexpected indent (<ipython-input-25-fbdffebed387>, line 24)",
     "output_type": "error",
     "traceback": [
      "\u001b[0;36m  File \u001b[0;32m\"<ipython-input-25-fbdffebed387>\"\u001b[0;36m, line \u001b[0;32m24\u001b[0m\n\u001b[0;31m    (date,errcode) = p.communicate()\u001b[0m\n\u001b[0m    ^\u001b[0m\n\u001b[0;31mIndentationError\u001b[0m\u001b[0;31m:\u001b[0m unexpected indent\n"
     ]
    }
   ],
   "source": [
    "import subprocess\n",
    "import csv\n",
    "import re\n",
    "\n",
    "\n",
    "from gpiozero import LED\n",
    "from time import sleep\n",
    "from datetime import datetime\n",
    "\n",
    "# gr=LED(4)\n",
    "# red=LED(14)\n",
    "\n",
    "\n",
    "\n",
    "# while True:\n",
    "# if True:\n",
    "\n",
    "\n",
    "        \n",
    "p = subprocess.Popen([\"owwrite\",add1+\"/date\", \"0\"])\n",
    "\n",
    "p = subprocess.Popen([\"owread\",add1+\"/date\"], stdout=subprocess.PIPE)\n",
    "\n",
    "    (date,errcode) = p.communicate()\n",
    "    dateObj = datetime.strptime(date.decode(),'%a %b %d %H:%M:%S %Y')\n",
    "    dateS = datetime.strftime(dateObj,'%Y%m%d %X')\n",
    "    # print(datetime.strftime(dateObj,'%Y%m%d %X'))\n",
    "\n",
    "    print(\"Time: \",dateS)\n",
    "\n",
    "    p = subprocess.Popen([\"owread\", add1+\"/temperature\"], stdout=subprocess.PIPE)\n",
    "\n",
    "    (temp,errcode) = p.communicate()\n",
    "    print(\"Temp: \", float(temp))\n",
    "\n",
    "    p = subprocess.Popen([\"owread\", add1+\"/humidity\"], stdout=subprocess.PIPE)\n",
    "\n",
    "    (output,errcode) = p.communicate()\n",
    "    #print(output)\n",
    "\n",
    "    humid = float(output)\n",
    "    print(\"Moisture: \", humid)\n",
    "\n",
    "#     if humid < 200 and humid > 10:\n",
    "#         print('okay')\n",
    "#         red.off()\n",
    "#         gr.on()\n",
    "#     else :\n",
    "#         print('dry');\n",
    "#         gr.off();\n",
    "#         red.on()\n",
    "\n",
    "    therow=(dateS,float(temp),float(humid))\n",
    "    # print(therow)\n",
    "    \n",
    "    f = open('test.csv', 'a', newline='')\n",
    "    writer = csv.writer(f)\n",
    "    writer.writerow(therow)\n",
    "    close(f)\n",
    "    sleep(10)\n",
    "\n",
    "# close(f)\n"
   ]
  },
  {
   "cell_type": "code",
   "execution_count": null,
   "metadata": {},
   "outputs": [],
   "source": []
  }
 ],
 "metadata": {
  "kernelspec": {
   "display_name": "Python 3",
   "language": "python",
   "name": "python3"
  },
  "language_info": {
   "codemirror_mode": {
    "name": "ipython",
    "version": 3
   },
   "file_extension": ".py",
   "mimetype": "text/x-python",
   "name": "python",
   "nbconvert_exporter": "python",
   "pygments_lexer": "ipython3",
   "version": "3.5.3"
  }
 },
 "nbformat": 4,
 "nbformat_minor": 2
}
