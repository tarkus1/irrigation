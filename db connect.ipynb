{
 "cells": [
  {
   "cell_type": "code",
   "execution_count": 1,
   "metadata": {},
   "outputs": [
    {
     "data": {
      "text/plain": [
       "0"
      ]
     },
     "execution_count": 1,
     "metadata": {},
     "output_type": "execute_result"
    }
   ],
   "source": [
    "import pymysql\n",
    "conn = pymysql.connect(host='localhost',user='pi', passwd='Skram1Skram1', db='irrigation')\n",
    "cur = conn.cursor()\n",
    "cur.execute(\"SELECT * FROM moisture\")\n"
   ]
  },
  {
   "cell_type": "code",
   "execution_count": null,
   "metadata": {},
   "outputs": [],
   "source": [
    "import pandas as pd\n",
    "import datetime\n",
    "\n",
    "moist = pd.read_csv('/home/pi/irrigation/test.csv')\n",
    "\n",
    "moist.columns = [\"Timetemp\", \"Temp\", \"Humidity\"]\n",
    "# moist\n",
    "\n",
    "moist['Time'] = pd.to_datetime(moist[\"Timetemp\"])\n",
    "moist = moist.drop(columns='Timetemp')\n",
    "moist.dtypes\n",
    "\n",
    "moist = moist.set_index('Time')\n",
    "\n",
    "moist['Week']=moist.index.weekofyear\n",
    "\n",
    "moist.tail()\n",
    "\n",
    "startDate = datetime.datetime.now()-datetime.timedelta(5)\n"
   ]
  },
  {
   "cell_type": "code",
   "execution_count": null,
   "metadata": {},
   "outputs": [],
   "source": [
    "moist.to_sql(name=database, con=conn, if_exists = 'replace', index=False, flavor = 'mysql')"
   ]
  }
 ],
 "metadata": {
  "kernelspec": {
   "display_name": "Python 3",
   "language": "python",
   "name": "python3"
  },
  "language_info": {
   "codemirror_mode": {
    "name": "ipython",
    "version": 3
   },
   "file_extension": ".py",
   "mimetype": "text/x-python",
   "name": "python",
   "nbconvert_exporter": "python",
   "pygments_lexer": "ipython3",
   "version": "3.5.3"
  }
 },
 "nbformat": 4,
 "nbformat_minor": 2
}
