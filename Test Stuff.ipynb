{
 "cells": [
  {
   "cell_type": "code",
   "execution_count": 1,
   "metadata": {},
   "outputs": [],
   "source": [
    "import pandas as pd\n"
   ]
  },
  {
   "cell_type": "code",
   "execution_count": 1,
   "metadata": {},
   "outputs": [
    {
     "name": "stdout",
     "output_type": "stream",
     "text": [
      "26.76249D010000\n",
      "bus.0\n"
     ]
    }
   ],
   "source": [
    "import os, sys, subprocess\n",
    "\n",
    "# read the owdir\n",
    "\n",
    "p = subprocess.Popen([\"owdir\"], stdout=subprocess.PIPE)\n",
    "(names,errcode) = p.communicate()\n",
    "temp=names.decode()\n",
    "address=temp.split(\"/\")\n",
    "# print(\"just decode \"+names.decode())\n",
    "# address=names.split(\"/\")\n",
    "\n",
    "add1=(str(address[1]).strip())\n",
    "print(add1)\n",
    "\n",
    "try:\n",
    "    add2=(str(address[2]).strip())\n",
    "except IOerror:\n",
    "    print(\"didn't work\")\n",
    "else:\n",
    "    print(add2)\n"
   ]
  },
  {
   "cell_type": "code",
   "execution_count": 2,
   "metadata": {
    "scrolled": false
   },
   "outputs": [
    {
     "name": "stdout",
     "output_type": "stream",
     "text": [
      "Time:  20190520 19:31:49\n",
      "Temp:  18.0\n",
      "Moisture:  53.76\n",
      "Time:  20190520 19:31:55\n",
      "Temp:  18.0\n",
      "Moisture:  53.76\n",
      "Time:  20190520 19:32:00\n",
      "Temp:  18.0\n",
      "Moisture:  53.76\n"
     ]
    },
    {
     "ename": "KeyboardInterrupt",
     "evalue": "",
     "output_type": "error",
     "traceback": [
      "\u001b[0;31m---------------------------------------------------------------------------\u001b[0m",
      "\u001b[0;31mKeyboardInterrupt\u001b[0m                         Traceback (most recent call last)",
      "\u001b[0;32m<ipython-input-2-08b88a50cc3b>\u001b[0m in \u001b[0;36m<module>\u001b[0;34m\u001b[0m\n\u001b[1;32m     59\u001b[0m     \u001b[0mwriter\u001b[0m\u001b[0;34m.\u001b[0m\u001b[0mwriterow\u001b[0m\u001b[0;34m(\u001b[0m\u001b[0mtherow\u001b[0m\u001b[0;34m)\u001b[0m\u001b[0;34m\u001b[0m\u001b[0m\n\u001b[1;32m     60\u001b[0m \u001b[0;31m#     close(f)\u001b[0m\u001b[0;34m\u001b[0m\u001b[0;34m\u001b[0m\u001b[0m\n\u001b[0;32m---> 61\u001b[0;31m     \u001b[0msleep\u001b[0m\u001b[0;34m(\u001b[0m\u001b[0;36m5\u001b[0m\u001b[0;34m)\u001b[0m\u001b[0;34m\u001b[0m\u001b[0m\n\u001b[0m\u001b[1;32m     62\u001b[0m \u001b[0;34m\u001b[0m\u001b[0m\n\u001b[1;32m     63\u001b[0m \u001b[0mclose\u001b[0m\u001b[0;34m(\u001b[0m\u001b[0mf\u001b[0m\u001b[0;34m)\u001b[0m\u001b[0;34m\u001b[0m\u001b[0m\n",
      "\u001b[0;31mKeyboardInterrupt\u001b[0m: "
     ]
    }
   ],
   "source": [
    "import subprocess\n",
    "import csv\n",
    "import re\n",
    "\n",
    "\n",
    "from gpiozero import LED\n",
    "from time import sleep\n",
    "from datetime import datetime\n",
    "\n",
    "# gr=LED(4)\n",
    "# red=LED(14)\n",
    "\n",
    "theAddress = add1\n",
    "\n",
    "\n",
    "while True:\n",
    "# if True:\n",
    "# need a try structure\n",
    "\n",
    "\n",
    "    p = subprocess.Popen([\"owwrite\",theAddress+\"/date\", \"0\"])\n",
    "\n",
    "    p = subprocess.Popen([\"owread\",theAddress+\"/date\"], stdout=subprocess.PIPE)\n",
    "\n",
    "    (date,errcode) = p.communicate()\n",
    "    dateObj = datetime.strptime(date.decode(),'%a %b %d %H:%M:%S %Y')\n",
    "    dateS = datetime.strftime(dateObj,'%Y%m%d %X')\n",
    "    # print(datetime.strftime(dateObj,'%Y%m%d %X'))\n",
    "\n",
    "    print(\"Time: \",dateS)\n",
    "\n",
    "    p = subprocess.Popen([\"owread\", theAddress+\"/temperature\"], stdout=subprocess.PIPE)\n",
    "\n",
    "    (temp,errcode) = p.communicate()\n",
    "    print(\"Temp: \", float(temp))\n",
    "\n",
    "    p = subprocess.Popen([\"owread\", theAddress+\"/humidity\"], stdout=subprocess.PIPE)\n",
    "\n",
    "    (output,errcode) = p.communicate()\n",
    "    #print(output)\n",
    "\n",
    "    humid = float(output)\n",
    "    print(\"Moisture: \", humid)\n",
    "\n",
    "#     if humid < 200 and humid > 10:\n",
    "#         print('okay')\n",
    "#         red.off()\n",
    "#         gr.on()\n",
    "#     else :\n",
    "#         print('dry');\n",
    "#         gr.off();\n",
    "#         red.on()\n",
    "\n",
    "    therow=(dateS,float(temp),float(humid))\n",
    "    # print(therow)\n",
    "    \n",
    "    f = open('test.csv', 'a', newline='')\n",
    "    writer = csv.writer(f)\n",
    "    writer.writerow(therow)\n",
    "#     close(f)\n",
    "    sleep(300)\n",
    "\n",
    "close(f)\n"
   ]
  },
  {
   "cell_type": "code",
   "execution_count": null,
   "metadata": {},
   "outputs": [],
   "source": []
  }
 ],
 "metadata": {
  "kernelspec": {
   "display_name": "Python 3",
   "language": "python",
   "name": "python3"
  },
  "language_info": {
   "codemirror_mode": {
    "name": "ipython",
    "version": 3
   },
   "file_extension": ".py",
   "mimetype": "text/x-python",
   "name": "python",
   "nbconvert_exporter": "python",
   "pygments_lexer": "ipython3",
   "version": "3.5.3"
  }
 },
 "nbformat": 4,
 "nbformat_minor": 2
}
