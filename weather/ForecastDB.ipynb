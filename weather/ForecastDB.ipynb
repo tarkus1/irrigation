{
 "cells": [
  {
   "cell_type": "code",
   "execution_count": 1,
   "metadata": {},
   "outputs": [
    {
     "name": "stdout",
     "output_type": "stream",
     "text": [
      "2019-07-01 16:17:00-06:00 \n",
      " Empty DataFrame\n",
      "Columns: [Day, DayNight, POP, Date]\n",
      "Index: []\n"
     ]
    }
   ],
   "source": [
    "\n",
    "import logging\n",
    "import pandas as pd\n",
    "\n",
    "import feedparser\n",
    "from datetime import datetime\n",
    "import dateutil\n",
    "from pytz import timezone\n",
    "\n",
    "d = feedparser.parse('https://weather.gc.ca/rss/city/ab-52_e.xml')\n",
    "##print(d.feed.title)\n",
    "len(d['items'])\n",
    "\n",
    "fcstutc = dateutil.parser.parse(d['items'][2]['published'])\n",
    "##print(fcstutc)\n",
    "\n",
    "fcstupd = fcstutc.astimezone(timezone('America/Edmonton'))\n",
    "\n",
    "popDF =  pd.DataFrame(columns=['Day', 'DayNight', 'POP','Date'])\n",
    "\n",
    "print(fcstupd,'\\n',popDF)"
   ]
  },
  {
   "cell_type": "code",
   "execution_count": 2,
   "metadata": {},
   "outputs": [
    {
     "name": "stdout",
     "output_type": "stream",
     "text": [
      "\n",
      "POP days\n",
      "          Day DayNight   POP Date\n",
      "0     Monday    night   60%  NaN\n",
      "1    Tuesday      day   30%  NaN\n",
      "2  Wednesday    night   40%  NaN\n",
      "3   Thursday      day   40%  NaN\n",
      "4   Thursday    night   60%  NaN\n",
      "5     Friday    night   40%  NaN\n",
      "6   Saturday      day   60%  NaN\n",
      "7   Saturday    night   60%  NaN\n",
      "8     Sunday      day   60%  NaN\n"
     ]
    }
   ],
   "source": [
    "\n",
    "\n",
    "for i in range(0,14):\n",
    "    e = d['items'][i]\n",
    "##    print(\"\\nNew Day \", e['title'],\"\\n\")\n",
    "    fcst=e['title'].split(':')\n",
    "##    print(len(fcst),'\\n')\n",
    "            \n",
    "    \n",
    "    dayNight = fcst[0].split(' ')\n",
    "    \n",
    "##    print(len(dayNight))\n",
    "    \n",
    "    theDay = dayNight[0]\n",
    "    if len(dayNight)>1:\n",
    "        if (dayNight[1] == 'night'):\n",
    "            timeofDay = 'night'\n",
    "    else:\n",
    "        timeofDay = 'day'\n",
    "    \n",
    "    \n",
    "#     print(theDay, timeofDay)\n",
    "    \n",
    "    if len(fcst)>1:\n",
    "##        print('second part ',fcst[1])\n",
    "        if fcst[1].find('POP') > 0:\n",
    "            pop = fcst[1].split('POP')\n",
    "##            print('\\nPOP ',pop[1])\n",
    "            popDF = popDF.append({'Day': theDay, 'DayNight': timeofDay, 'POP': pop[1]}, ignore_index=True)\n",
    "\n",
    "        \n",
    "print('\\nPOP days\\n',popDF)"
   ]
  },
  {
   "cell_type": "code",
   "execution_count": 3,
   "metadata": {},
   "outputs": [
    {
     "name": "stdout",
     "output_type": "stream",
     "text": [
      "         Day             Forecast Date      Date Forecasted  POP\n",
      "0     Monday 2019-07-01 16:17:00-06:00  2019-07-01 18:00:00  0.6\n",
      "1    Tuesday 2019-07-01 16:17:00-06:00  2019-07-02 11:00:00  0.3\n",
      "2  Wednesday 2019-07-01 16:17:00-06:00  2019-07-03 18:00:00  0.4\n",
      "3   Thursday 2019-07-01 16:17:00-06:00  2019-07-04 11:00:00  0.4\n",
      "4   Thursday 2019-07-01 16:17:00-06:00  2019-07-04 18:00:00  0.6\n",
      "5     Friday 2019-07-01 16:17:00-06:00  2019-07-05 18:00:00  0.4\n",
      "6   Saturday 2019-07-01 16:17:00-06:00  2019-07-06 11:00:00  0.6\n",
      "7   Saturday 2019-07-01 16:17:00-06:00  2019-07-06 18:00:00  0.6\n",
      "8     Sunday 2019-07-01 16:17:00-06:00  2019-07-07 11:00:00  0.6\n"
     ]
    }
   ],
   "source": [
    "\n",
    "\n",
    "from datetime import timedelta\n",
    "def get_next_monday():\n",
    "    date0 = datetime.now()\n",
    "#     date0 = datetime.date(year, month, day)\n",
    "    next_monday = date0 + timedelta(7 - date0.weekday() or 7)\n",
    "    return next_monday\n",
    "\n",
    "##print (get_next_monday())\n",
    "\n",
    "import calendar\n",
    "import pandas as pd\n",
    "\n",
    "fcstDays = pd.DataFrame(columns=['Day', 'Date'])\n",
    "\n",
    "for dd in range(0,7):\n",
    "    \n",
    "    dayN = datetime.now() + timedelta(days=dd)\n",
    "    dayName = calendar.day_name[dayN.weekday()]\n",
    "    dayDt = dayN.date()\n",
    "    \n",
    "    fcstDays = fcstDays.append({'Day': dayName, 'Date': dayDt}, ignore_index=True)\n",
    "\n",
    "##fcstDays\n",
    "\n",
    "fcstwk = pd.merge(popDF, fcstDays, on='Day')\n",
    "\n",
    "fcstwk.sort_values('Date_y')\n",
    "fcstwk.Date_x=fcstupd\n",
    "\n",
    "fcstwk = fcstwk.rename(columns={'Date_x':'Forecast Date','Date_y':'Date Forecasted'})\n",
    "\n",
    "##print(fcstwk)\n",
    "\n",
    "fcstHist = pd.read_pickle('/home/mark/Documents/irrigation/weather/FcstHistory.pkl')\n",
    "\n",
    "# fcstwk.loc[fcstwk.DayNight == 'day', fcstwk['Date Forecasted']] = pd.to_datetime(fcstwk['Date Forecasted'])+ pd.Timedelta(11, unit='h')\n",
    "\n",
    "for Index, row in fcstwk.iterrows():\n",
    "    if row.DayNight == 'day':\n",
    "        zoink = pd.to_datetime(row['Date Forecasted'])+ pd.Timedelta(11, unit='h')\n",
    "#         print(zoink, 'index ',row.index, Index)\n",
    "    else:\n",
    "        zoink = pd.to_datetime(row['Date Forecasted'])+ pd.Timedelta(18, unit='h')\n",
    "#         print(zoink, 'index ',Index)\n",
    "        \n",
    "    fcstwk.at[Index, 'Date Forecasted'] = zoink\n",
    "    \n",
    "fcstwk.POP = pd.to_numeric(fcstwk.POP.str.strip('%'))/100\n",
    "\n",
    "# fcstwk = fcstwk[['Date Forecasted','Forecast Date','POP']]\n",
    "\n",
    "# fcstHist = fcstHist.append(fcstwk, ignore_index=True)\n",
    "\n",
    "# fcstHist = fcstHist.drop_duplicates()\n",
    "\n",
    "\n",
    "fcstHist.to_pickle('/home/mark/Documents/irrigation/weather/FcstHistory.pkl')\n",
    "\n",
    "pfcst = fcstwk.sort_values(by=['Date Forecasted','DayNight','Forecast Date'],ascending=[True,True,False])\n",
    "\n",
    "\n",
    "\n",
    "print(pfcst[['Day','Forecast Date','Date Forecasted','POP']])\n",
    "\n",
    "# fcstwk\n",
    "\n"
   ]
  },
  {
   "cell_type": "code",
   "execution_count": 25,
   "metadata": {},
   "outputs": [
    {
     "data": {
      "text/plain": [
       "Day                                          object\n",
       "DayNight                                     object\n",
       "POP                                          object\n",
       "Forecast Date      datetime64[ns, America/Edmonton]\n",
       "Date Forecasted                              object\n",
       "dtype: object"
      ]
     },
     "execution_count": 25,
     "metadata": {},
     "output_type": "execute_result"
    }
   ],
   "source": [
    "fcstwk.dtypes\n"
   ]
  },
  {
   "cell_type": "code",
   "execution_count": 37,
   "metadata": {},
   "outputs": [
    {
     "data": {
      "text/plain": [
       "0   2019-06-30 11:00:00\n",
       "1   2019-07-01 11:00:00\n",
       "2   2019-07-03 11:00:00\n",
       "3   2019-07-04 11:00:00\n",
       "4   2019-07-05 11:00:00\n",
       "5   2019-07-05 11:00:00\n",
       "6   2019-07-06 11:00:00\n",
       "Name: Date Forecasted, dtype: datetime64[ns]"
      ]
     },
     "execution_count": 37,
     "metadata": {},
     "output_type": "execute_result"
    }
   ],
   "source": [
    "snurg = datetime.now()\n",
    "xfr = pd.Timedelta(11, unit='h')\n",
    "# zpla = snidge + xfr\n",
    "zpla = snidge + pd.Timedelta(11, unit='h')\n",
    "zpla"
   ]
  }
 ],
 "metadata": {
  "kernelspec": {
   "display_name": "Python 3",
   "language": "python",
   "name": "python3"
  },
  "language_info": {
   "codemirror_mode": {
    "name": "ipython",
    "version": 3
   },
   "file_extension": ".py",
   "mimetype": "text/x-python",
   "name": "python",
   "nbconvert_exporter": "python",
   "pygments_lexer": "ipython3",
   "version": "3.5.3"
  }
 },
 "nbformat": 4,
 "nbformat_minor": 2
}
